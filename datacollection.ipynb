{
 "cells": [
  {
   "cell_type": "code",
   "execution_count": null,
   "id": "74340b71",
   "metadata": {},
   "outputs": [],
   "source": [
    "import mediapipe as mp\n",
    "import numpy as np \n",
    "import cv2 \n",
    "\n",
    "def inFrame(lst):\n",
    "\tif lst[28].visibility > 0.6 and lst[27].visibility > 0.6 and lst[15].visibility>0.6 and lst[16].visibility>0.6:\n",
    "\t\treturn True \n",
    "\treturn False\n",
    " \n",
    "cap = cv2.VideoCapture(0)\n",
    "\n",
    "name = input(\"Enter the name of the Asana : \")\n",
    "\n",
    "holistic = mp.solutions.pose\n",
    "holis = holistic.Pose()\n",
    "drawing = mp.solutions.drawing_utils\n",
    "\n",
    "X = []\n",
    "data_size = 0\n",
    "\n",
    "while True:\n",
    "\tlst = []\n",
    "\n",
    "\t_, frm = cap.read()\n",
    "\n",
    "\tfrm = cv2.flip(frm, 1)\n",
    "\n",
    "\tres = holis.process(cv2.cvtColor(frm, cv2.COLOR_BGR2RGB))\n",
    "\n",
    "\tif res.pose_landmarks and inFrame(res.pose_landmarks.landmark):\n",
    "\t\tfor i in res.pose_landmarks.landmark:\n",
    "\t\t\tlst.append(i.x - res.pose_landmarks.landmark[0].x)\n",
    "\t\t\tlst.append(i.y - res.pose_landmarks.landmark[0].y)\n",
    "\n",
    "\t\tX.append(lst)\n",
    "\t\tdata_size = data_size+1\n",
    "\n",
    "\telse:\n",
    "\t\tcv2.putText(frm, \"Make Sure Full body visible\", (50,50), cv2.FONT_HERSHEY_SIMPLEX, 1, (0,0,255),2)\n",
    "\n",
    "\tdrawing.draw_landmarks(frm, res.pose_landmarks, holistic.POSE_CONNECTIONS)\n",
    "\n",
    "\tcv2.putText(frm, str(data_size), (50,50), cv2.FONT_HERSHEY_SIMPLEX, 1, (0,255,0),2)\n",
    "\n",
    "\tcv2.imshow(\"window\", frm)\n",
    "#\n",
    "\tif cv2.waitKey(1) == 27 or data_size>80:\n",
    "\t\tcv2.destroyAllWindows()\n",
    "\t\tcap.release()\n",
    "\t\tbreak\n",
    "\n",
    "\n",
    "np.save(f\"{name}.npy\", np.array(X))\n",
    "print(np.array(X).shape)"
   ]
  },
  {
   "cell_type": "code",
   "execution_count": null,
   "id": "62b76d97",
   "metadata": {},
   "outputs": [],
   "source": []
  }
 ],
 "metadata": {
  "kernelspec": {
   "display_name": "Python 3 (ipykernel)",
   "language": "python",
   "name": "python3"
  },
  "language_info": {
   "codemirror_mode": {
    "name": "ipython",
    "version": 3
   },
   "file_extension": ".py",
   "mimetype": "text/x-python",
   "name": "python",
   "nbconvert_exporter": "python",
   "pygments_lexer": "ipython3",
   "version": "3.10.9"
  }
 },
 "nbformat": 4,
 "nbformat_minor": 5
}
