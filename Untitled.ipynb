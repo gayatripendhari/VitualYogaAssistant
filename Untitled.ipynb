{
 "cells": [
  {
   "cell_type": "code",
   "execution_count": null,
   "id": "2c73d424",
   "metadata": {},
   "outputs": [],
   "source": [
    "# import tkinter as tk\n",
    "#\n",
    "# # Create the main window\n",
    "# top = tk.Tk()\n",
    "#\n",
    "# # Set the title of the window\n",
    "# top.title(\"Window with Background Image\")\n",
    "# window_width = 800\n",
    "# window_height = 600\n",
    "# top.geometry(f\"{window_width}x{window_height}\")\n",
    "#\n",
    "# # Load the background image\n",
    "# bg_image = tk.PhotoImage(file=\"G:\\\\Code 23-24\\\\EmotionDetection\\\\img\\\\Diagram1.png\")\n",
    "#\n",
    "# # Create a label with the background image\n",
    "# bg_label = tk.Label(top, image=bg_image)\n",
    "# bg_label.place(relwidth=1, relheight=1)  # Expand the label to cover the entire window\n",
    "# #\n",
    "# # # Other widgets and content can be added on top of the background image\n",
    "# # # For example, you can add a button\n",
    "# # button = tk.Button(top, text=\"Click me\")\n",
    "# # button.pack()\n",
    "#\n",
    "# # Start the Tkinter event loop\n",
    "# top.mainloop()\n",
    "#\n",
    "from tkinter import *\n",
    "from PIL import ImageTk\n",
    "import subprocess\n",
    "\n",
    "# import tkinter as tk\n",
    "import os\n",
    "win = Tk()\n",
    "win.geometry(\"900x1200\")\n",
    "\n",
    "# def run_main():\n",
    "#     # subprocess.call([\"python\", \"test.py\"])\n",
    "#     os.system(\"python main.py\")\n",
    "    # except Exception as e:\n",
    "    #     print(f\"Error running main.py: {e}\")\n",
    "\n",
    "#Define the PhotoImage Constructor by passing the image file\n",
    "img= PhotoImage(file='stepsuryanamskar.png', master= win)\n",
    "img_label= Label(win,image=img)\n",
    "\n",
    "#define the position of the image\n",
    "img_label.place(x=0, y=0)\n",
    "# button_width = 10\n",
    "# button_height = 2\n",
    "# button_login = Button(text=\"Login\",width=button_width, height=button_height,fg=\"blue\", font=(\"Helvetica\", \"18\"))\n",
    "# button_login.place(x=540, y=10)\n",
    "# button_width = 10\n",
    "# button_height = 2\n",
    "# button_register = Button(text=\"Register\",width=button_width, height=button_height,fg=\"blue\", font=(\"Helvetica\", \"18\"),command=lambda: run_main())\n",
    "# button_register.place(x=540, y=100)\n",
    "win.mainloop()"
   ]
  },
  {
   "cell_type": "code",
   "execution_count": null,
   "id": "a3078f2e",
   "metadata": {},
   "outputs": [],
   "source": []
  }
 ],
 "metadata": {
  "kernelspec": {
   "display_name": "Python 3 (ipykernel)",
   "language": "python",
   "name": "python3"
  },
  "language_info": {
   "codemirror_mode": {
    "name": "ipython",
    "version": 3
   },
   "file_extension": ".py",
   "mimetype": "text/x-python",
   "name": "python",
   "nbconvert_exporter": "python",
   "pygments_lexer": "ipython3",
   "version": "3.11.5"
  }
 },
 "nbformat": 4,
 "nbformat_minor": 5
}
