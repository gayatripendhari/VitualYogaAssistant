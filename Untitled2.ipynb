{
 "cells": [
  {
   "cell_type": "code",
   "execution_count": 1,
   "id": "1f712584",
   "metadata": {},
   "outputs": [],
   "source": [
    "import tkinter as tk\n",
    "from tkinter import *\n",
    "\n",
    "w = 1200\n",
    "h = 650\n",
    "\n",
    "class mainformnew:\n",
    "    def __init__(self, master):\n",
    "        self.master = master\n",
    "        # ----------- CENTER FORM ------------- #\n",
    "        ws = self.master.winfo_screenwidth()\n",
    "        hs = self.master.winfo_screenheight()\n",
    "        x = (ws-w)/2\n",
    "        y = (hs-h)/2\n",
    "        self.master.geometry(\"%dx%d+%d+%d\" % (w, h, x, y))\n",
    "\n",
    "        # ----------- MENU ------------- #\n",
    "\n",
    "        self.frame = tk.Frame(self.master)\n",
    "        self.menubar = Menu(self.frame)\n",
    "        self.products = Menu(self.menubar)\n",
    "        self.products.add_command(label=\"Add\")\n",
    "        self.products.add_command(label=\"Edit\")\n",
    "        self.products.add_command(label=\"Remove\")\n",
    "\n",
    "        self.menubar.add_cascade(menu=self.products, label=\"Object\")\n",
    "\n",
    "        self.categories = Menu(self.menubar)\n",
    "        self.categories.add_command(label=\"Add\")\n",
    "        self.categories.add_command(label=\"Edit\")\n",
    "        self.categories.add_command(label=\"Remove\")\n",
    "\n",
    "        self.menubar.add_cascade(menu=self.categories, label=\"Object\")\n",
    "\n",
    "        self.frame.pack()\n",
    "        # button = Button(root, text=\"Open Camera\", command=open_second_file)\n",
    "        # button.pack()\n",
    "        # ------------------------------ #\n",
    "\n",
    "        self.master.config(menu=self.menubar, bg=\"#ecf0f1\")\n",
    "        self.lbl = tk.Label(self.master, text='Main Form', font=('verdana',50, 'bold')\n",
    "                            , fg='#2A2C2B',bg=\"#ecf0f1\")\n",
    "        self.lbl.place(rely=0.5, relx=0.5, anchor=CENTER)"
   ]
  },
  {
   "cell_type": "code",
   "execution_count": null,
   "id": "d1a2acf5",
   "metadata": {},
   "outputs": [],
   "source": []
  }
 ],
 "metadata": {
  "kernelspec": {
   "display_name": "Python 3 (ipykernel)",
   "language": "python",
   "name": "python3"
  },
  "language_info": {
   "codemirror_mode": {
    "name": "ipython",
    "version": 3
   },
   "file_extension": ".py",
   "mimetype": "text/x-python",
   "name": "python",
   "nbconvert_exporter": "python",
   "pygments_lexer": "ipython3",
   "version": "3.11.5"
  }
 },
 "nbformat": 4,
 "nbformat_minor": 5
}
