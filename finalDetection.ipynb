{
 "cells": [
  {
   "cell_type": "code",
   "execution_count": 1,
   "id": "3ddbe5d4",
   "metadata": {},
   "outputs": [
    {
     "name": "stderr",
     "output_type": "stream",
     "text": [
      "WARNING:absl:Compiled the loaded model, but the compiled metrics have yet to be built. `model.compile_metrics` will be empty until you train or evaluate the model.\n"
     ]
    }
   ],
   "source": [
    "import cv2\n",
    "import numpy as np\n",
    "import mediapipe as mp\n",
    "from keras.models import load_model\n",
    "import pyttsx3\n",
    "\n",
    "def inFrame(lst):\n",
    "    if lst[28].visibility > 0.6 and lst[27].visibility > 0.6 and lst[15].visibility > 0.6 and lst[16].visibility > 0.6:\n",
    "        return True\n",
    "    return False\n",
    "\n",
    "model = load_model(\"model.h5\")\n",
    "label = np.load(\"labels.npy\")\n",
    "\n",
    "holistic = mp.solutions.pose\n",
    "holis = holistic.Pose()\n",
    "drawing = mp.solutions.drawing_utils\n",
    "\n",
    "cap = cv2.VideoCapture(0)\n",
    "engine = pyttsx3.init()\n",
    "\n",
    "# Voice feedback for program initiation\n",
    "engine.say('Welcome To AI Yoga pose detection')\n",
    "engine.runAndWait()\n",
    "\n",
    "while True:\n",
    "    lst = []\n",
    "\n",
    "    _, frm = cap.read()\n",
    "\n",
    "    window = np.zeros((940, 940, 3), dtype=\"uint8\")\n",
    "\n",
    "    frm = cv2.flip(frm, 1)\n",
    "\n",
    "    res = holis.process(cv2.cvtColor(frm, cv2.COLOR_BGR2RGB))\n",
    "\n",
    "    frm = cv2.blur(frm, (4, 4))\n",
    "    if res.pose_landmarks and inFrame(res.pose_landmarks.landmark):\n",
    "        for i in res.pose_landmarks.landmark:\n",
    "            lst.append(i.x - res.pose_landmarks.landmark[0].x)\n",
    "            lst.append(i.y - res.pose_landmarks.landmark[0].y)\n",
    "\n",
    "        lst = np.array(lst).reshape(1, -1)\n",
    "\n",
    "        p = model.predict(lst)\n",
    "        pred = label[np.argmax(p)]\n",
    "\n",
    "        if p[0][np.argmax(p)] > 0.75:\n",
    "            cv2.putText(window, pred, (180, 180), cv2.FONT_ITALIC, 1.3, (0, 255, 0), 2)\n",
    "            # Voice feedback for detected pose\n",
    "            engine.say('Detected pose is ' + pred)\n",
    "            engine.runAndWait()\n",
    "        else:\n",
    "            cv2.putText(window, \"Asana is either wrong or not trained\", (100, 180), cv2.FONT_ITALIC, 1.8,\n",
    "                        (0, 0, 255), 3)\n",
    "            engine.say('Asana is either wrong or not trained')\n",
    "            engine.runAndWait()\n",
    "\n",
    "    else:\n",
    "        cv2.putText(frm, \"Make Sure Full body visible\", (100, 450), cv2.FONT_HERSHEY_SIMPLEX, 0.8, (0, 0, 255), 3)\n",
    "        \n",
    "\n",
    "    drawing.draw_landmarks(frm, res.pose_landmarks, holistic.POSE_CONNECTIONS,\n",
    "                           connection_drawing_spec=drawing.DrawingSpec(color=(255, 255, 255), thickness=6),\n",
    "                           landmark_drawing_spec=drawing.DrawingSpec(color=(0, 0, 255), circle_radius=3,\n",
    "                                                                     thickness=3))\n",
    "\n",
    "    window[420:900, 170:810, :] = cv2.resize(frm, (640, 480))\n",
    "\n",
    "    cv2.imshow(\"window\", window)\n",
    "\n",
    "    if cv2.waitKey(1) == 27:\n",
    "        cv2.destroyAllWindows()\n",
    "        cap.release()\n",
    "        break\n"
   ]
  },
  {
   "cell_type": "code",
   "execution_count": null,
   "id": "755b8fc2",
   "metadata": {},
   "outputs": [],
   "source": []
  }
 ],
 "metadata": {
  "kernelspec": {
   "display_name": "Python 3 (ipykernel)",
   "language": "python",
   "name": "python3"
  },
  "language_info": {
   "codemirror_mode": {
    "name": "ipython",
    "version": 3
   },
   "file_extension": ".py",
   "mimetype": "text/x-python",
   "name": "python",
   "nbconvert_exporter": "python",
   "pygments_lexer": "ipython3",
   "version": "3.11.5"
  }
 },
 "nbformat": 4,
 "nbformat_minor": 5
}
